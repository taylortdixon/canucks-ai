{
 "cells": [
  {
   "cell_type": "markdown",
   "metadata": {
    "gradient": {
     "editing": false,
     "id": "12cb1733-9408-4252-a36e-f88e3f6dc11d",
     "kernelId": "0f9bedcb-b92b-45b2-af77-b3732ed82490"
    },
    "id": "3wF5wszaj97Y"
   },
   "source": [
    "# Canucks AI"
   ]
  },
  {
   "cell_type": "code",
   "execution_count": null,
   "metadata": {
    "collapsed": false,
    "gradient": {
     "editing": false,
     "id": "fe5e1abc-5e08-4cf9-88df-e8762629b391",
     "kernelId": "0f9bedcb-b92b-45b2-af77-b3732ed82490",
     "source_hidden": false
    }
   },
   "outputs": [],
   "source": [
    "!pip3 install gpt-2-simple\n",
    "!pip install tensorflow-gpu==1.14"
   ]
  },
  {
   "cell_type": "code",
   "execution_count": null,
   "metadata": {
    "gradient": {
     "editing": false,
     "id": "8bef12ce-0322-491c-b5c0-06b2eb180b74",
     "kernelId": "0f9bedcb-b92b-45b2-af77-b3732ed82490"
    }
   },
   "outputs": [],
   "source": [
    "import os\n",
    "import gpt_2_simple as gpt2\n",
    "\n",
    "model_name = \"355M\"\n",
    "\n",
    "if not os.path.isdir(os.path.join(\"models\", model_name)):\n",
    "\tprint(f\"Downloading {model_name} model...\")\n",
    "\tgpt2.download_gpt2(model_name=model_name)"
   ]
  },
  {
   "cell_type": "code",
   "execution_count": null,
   "metadata": {
    "collapsed": false,
    "gradient": {
     "editing": false,
     "id": "2868ca83-4a04-4fca-b4f0-728e87048775",
     "kernelId": "0f9bedcb-b92b-45b2-af77-b3732ed82490",
     "source_hidden": false
    }
   },
   "outputs": [],
   "source": [
    "import gpt_2_simple as gpt2\n",
    "\n",
    "model_name = \"355M\"\n",
    "file_name = \"combined-tweets.txt\"\n",
    "finetune = True\n",
    "generate = False\n",
    "\n",
    "sess = gpt2.start_tf_sess()\n",
    "\n",
    "if finetune: \n",
    "\tgpt2.finetune(sess,\n",
    "\t\t\t\tfile_name,\n",
    "\t\t\t\tmodel_name=model_name,\n",
    "\t\t\t\tsteps=160,\n",
    "\t\t\t\tbatch_size=1\n",
    "\t)   \n",
    "else: \n",
    "\tgpt2.load_gpt2(sess)\n",
    "\n",
    "if generate: \n",
    "\tgpt2.generate(sess, temperature=0.92,nsamples=40,batch_size=40,truncate=\"<|endoftext|>\",top_p=0.8,prefix=\"JPAT:\",include_prefix=True)\n",
    "\tgpt2.generate(sess, temperature=0.92,nsamples=40,batch_size=40,truncate=\"<|endoftext|>\",top_p=0.8,prefix=\"Price:\",include_prefix=True)\n",
    "\tgpt2.generate(sess, temperature=0.92,nsamples=40,batch_size=40,truncate=\"<|endoftext|>\",top_p=0.8,prefix=\"Sekeres:\",include_prefix=True)\n",
    "\tgpt2.generate(sess, temperature=0.92,nsamples=40,batch_size=40,truncate=\"<|endoftext|>\",top_p=0.8,prefix=\"Harm:\",include_prefix=True)\n",
    "\tgpt2.generate(sess, temperature=0.92,nsamples=40,batch_size=40,truncate=\"<|endoftext|>\",top_p=0.8,prefix=\"IMac:\",include_prefix=True)\n",
    "\tgpt2.generate(sess, temperature=0.92,nsamples=40,batch_size=40,truncate=\"<|endoftext|>\",top_p=0.8,prefix=\"PJ:\",include_prefix=True)\n",
    "\tgpt2.generate(sess, temperature=0.92,nsamples=40,batch_size=40,truncate=\"<|endoftext|>\",top_p=0.8,prefix=\"Bulis:\",include_prefix=True)"
   ]
  }
 ],
 "metadata": {
  "kernelspec": {
   "display_name": "Python 3 (ipykernel)",
   "language": "python",
   "name": "python3"
  },
  "language_info": {
   "codemirror_mode": {
    "name": "ipython",
    "version": 3
   },
   "file_extension": ".py",
   "mimetype": "text/x-python",
   "name": "python",
   "nbconvert_exporter": "python",
   "pygments_lexer": "ipython3",
   "version": "3.8.10"
  }
 },
 "nbformat": 4,
 "nbformat_minor": 1
}
